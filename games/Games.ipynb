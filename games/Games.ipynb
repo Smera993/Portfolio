{
 "cells": [
  {
   "cell_type": "markdown",
   "metadata": {},
   "source": [
    "<div class=\"alert alert-info\">\n",
    " <center> Сборный проект№1 </center> \n",
    "    \n",
    " \n",
    " </div>"
   ]
  },
  {
   "cell_type": "markdown",
   "metadata": {},
   "source": [
    "<div class=\"alert alert-info\">\n",
    "<b> У нас есть данный  о продажах игр, оценки пользователей и экспертов, жанры и платформы (например, Xbox или PlayStation). Нам нужно выявить определяющие успешность игры закономерности. Это позволит сделать ставку на потенциально популярный продукт и спланировать рекламные кампании.\n",
    "<br>Данные до 2016 года. Представим, что сейчас декабрь 2016 г., и мы планируем кампанию на 2017-й.</br>\n",
    "    \n",
    "В наборе данных попадается аббревиатура ESRB (Entertainment Software Rating Board) — это ассоциация, определяющая возрастной рейтинг компьютерных игр. ESRB оценивает игровой контент и присваивает ему подходящую возрастную категорию, например, «Для взрослых», «Для детей младшего возраста» или «Для подростков».\n",
    "</b> \n",
    "<center> Цели: </center> \n",
    "<br>  1. Открыть файл с данными и изучить общую информацию</br> \n",
    "<br>  2. Подготовка данные</br>\n",
    "<br>  3. Исследовательский анализ данных</br>\n",
    "<br>  4. Портрет пользователя каждого региона</br> \n",
    "<br>  5. Проверка гипотезы</br>\n",
    "<br>  6. Общий вывод</br>\n",
    "<center> Описание данных: </center> \n",
    "\n",
    "<br>Name — название игры</br> \n",
    "<br> Platform — платформа</br> \n",
    "<br> Year_of_Release — год выпуска</br> \n",
    "<br> Genre — жанр игры</br> \n",
    "<br> NA_sales — продажи в Северной Америке (миллионы проданных копий)</br> \n",
    "<br> EU_sales — продажи в Европе (миллионы проданных копий)</br>  \n",
    "<br> JP_sales — продажи в Японии (миллионы проданных копий)</br> \n",
    "<br> Other_sales — продажи в других странах (миллионы проданных копий)</br> \n",
    "<br> Critic_Score — оценка критиков (максимум 100)</br> \n",
    "<br> User_Score — оценка пользователей (максимум 10)</br> \n",
    "<br> Rating — рейтинг от организации ESRB (англ. Entertainment Software Rating Board). Эта ассоциация определяет рейтинг  компьютерных игр и присваивает им подходящую возрастную категорию.</br> \n",
    "\n",
    "\n",
    "</div>"
   ]
  },
  {
   "cell_type": "code",
   "execution_count": 4,
   "metadata": {},
   "outputs": [
    {
     "name": "stdout",
     "output_type": "stream",
     "text": [
      "Collecting plotly\n",
      "  Downloading https://files.pythonhosted.org/packages/df/79/c80174d711ee26ee5da55a9cc3e248f1ec7a0188b5e4d6bbbbcd09b974b0/plotly-5.17.0-py2.py3-none-any.whl (15.6MB)\n",
      "Collecting tenacity>=6.2.0 (from plotly)\n",
      "  Downloading https://files.pythonhosted.org/packages/f4/f1/990741d5bb2487d529d20a433210ffa136a367751e454214013b441c4575/tenacity-8.2.3-py3-none-any.whl\n",
      "Requirement already satisfied: packaging in c:\\programdata\\anaconda3\\lib\\site-packages (from plotly) (19.2)\n",
      "Requirement already satisfied: six in c:\\programdata\\anaconda3\\lib\\site-packages (from packaging->plotly) (1.12.0)\n",
      "Requirement already satisfied: pyparsing>=2.0.2 in c:\\programdata\\anaconda3\\lib\\site-packages (from packaging->plotly) (2.4.2)\n",
      "Installing collected packages: tenacity, plotly\n",
      "Successfully installed plotly-5.17.0 tenacity-8.2.3\n",
      "Note: you may need to restart the kernel to use updated packages.\n"
     ]
    }
   ],
   "source": [
    "pip install plotly"
   ]
  },
  {
   "cell_type": "code",
   "execution_count": 6,
   "metadata": {},
   "outputs": [],
   "source": [
    "import pandas as pd\n",
    "from scipy import stats as st\n",
    "import numpy as np\n",
    "import seaborn as sns\n",
    "import plotly.graph_objects as go\n",
    "import plotly.express as px\n",
    "import matplotlib.pyplot as plt\n",
    "import math\n"
   ]
  },
  {
   "cell_type": "code",
   "execution_count": 7,
   "metadata": {},
   "outputs": [],
   "source": [
    "data = pd.read_csv('C:\\Jupiter/games.csv')"
   ]
  },
  {
   "cell_type": "markdown",
   "metadata": {},
   "source": [
    "<div class=\"alert alert-info\">\n",
    "    \n",
    "<b> Откроем csv файл и подгрузим библиотеки с которыми будем работать по ходу проекта</b> \n",
    "</div>"
   ]
  },
  {
   "cell_type": "code",
   "execution_count": null,
   "metadata": {},
   "outputs": [],
   "source": [
    "data.info()"
   ]
  },
  {
   "cell_type": "markdown",
   "metadata": {},
   "source": [
    "<div class=\"alert alert-info\">\n",
    "<b> Заменим названия столбцом</b> \n",
    "</div>"
   ]
  },
  {
   "cell_type": "code",
   "execution_count": null,
   "metadata": {},
   "outputs": [],
   "source": [
    "data.columns = map(str.lower, data.columns)"
   ]
  },
  {
   "cell_type": "code",
   "execution_count": null,
   "metadata": {},
   "outputs": [],
   "source": [
    "data.isna().sum()"
   ]
  },
  {
   "cell_type": "markdown",
   "metadata": {},
   "source": [
    "<div class=\"alert alert-info\">\n",
    "В name 2 пропуска, их просто удалим чтобы не мешали. На общую картину это не повлияет. Заменит тип данных в year_of_release на интерджер(смысл года в флоат оставлять не вижу) для это нужно убрать пропусти.  Заменим их медианным значением, чтобы не терять часть данных в какие года что выходило.\n",
    "    \n",
    "Так же заполним  пропуски в data['name'] и genre на пустые значения</b> \n"
   ]
  },
  {
   "cell_type": "code",
   "execution_count": null,
   "metadata": {},
   "outputs": [],
   "source": [
    "data['year_of_release'] = data['year_of_release'].fillna(0).astype(int)\n",
    "data['name']= data['name'].fillna(\"\")\n",
    "data['genre']= data['genre'].fillna(\"\")"
   ]
  },
  {
   "cell_type": "markdown",
   "metadata": {},
   "source": [
    "<div class=\"alert alert-info\">\n",
    "<b> Округлим данные по продажам и переведем их в интеджер, смысла от флоат тут не вижу, да и не понимаю(0.5 продажи это как вообще? хех)\n",
    "    \n",
    "Заменим tbd на 0(это значит что человек еще не поставил оценку, а только собирался. Значит этих данных нет, чтобы они нам не мешали заменим их 0м) тоже самое можно сказать и о пропусках в user_score, далее все расчеты и графики будем стоить от 1 и выше чтобы не путать данные) тоже самое сделаем с пропусками в rating и critic_score\n",
    "    \n",
    "    \n",
    "user_score  заполним пропуски нулями чтобы не терять часть данных и при этом можно было бы перевести их в интеджер\n",
    "    \n",
    "так же замени пропуски в rating на unknown чтобы видеть в каких регионах рейтинг не ставят и покупают без него\n",
    "</b> \n",
    "</div>"
   ]
  },
  {
   "cell_type": "code",
   "execution_count": null,
   "metadata": {},
   "outputs": [],
   "source": [
    "data['na_sales'] = data['na_sales'].round().astype(int)\n",
    "data['eu_sales'] = data['eu_sales'].round().astype(int)\n",
    "data['jp_sales'] = data['jp_sales'].round().astype(int)\n",
    "data['other_sales'] = data['other_sales'].round().astype(int)\n",
    "\n",
    "data['user_score'] = data['user_score'].replace([\"tbd\", \"0\"], '0', regex=True)\n",
    "data['user_score'] = data['user_score'].fillna(0)\n",
    "data['user_score'] = pd.to_numeric(data['user_score'])\n",
    "data['user_score'] = data['user_score'].round().astype(int)\n",
    "print(data['user_score'].unique())\n",
    "\n",
    "data['rating'] = data['rating'].fillna('unknown')"
   ]
  },
  {
   "cell_type": "code",
   "execution_count": null,
   "metadata": {},
   "outputs": [],
   "source": [
    "data.info()"
   ]
  },
  {
   "cell_type": "markdown",
   "metadata": {},
   "source": [
    "<div class=\"alert alert-info\">\n",
    "<b> Создадим и посчитаем продажи в новом столбце\n",
    "   </b> \n",
    "</div>"
   ]
  },
  {
   "cell_type": "code",
   "execution_count": null,
   "metadata": {},
   "outputs": [],
   "source": [
    "data['all_sales'] = data['na_sales']+data['eu_sales']+data['jp_sales']+data['other_sales']\n",
    "print(data['all_sales'].head(10))"
   ]
  },
  {
   "cell_type": "markdown",
   "metadata": {},
   "source": [
    "<div class=\"alert alert-info\">\n",
    "<b> посмотреть количество выпускаемых игр по годам мы не можем, нет данных будем считать что количество продаж соответвует количесву выпущен игр. Cтроим график всех продаж по годам. Лидерами являются 2007 и 2008 год"
   ]
  },
  {
   "cell_type": "code",
   "execution_count": null,
   "metadata": {},
   "outputs": [],
   "source": [
    "data_saint = data.groupby('year_of_release')['all_sales'].sum().sort_values(ascending=False)\n",
    "\n",
    "data_saint.plot(x='year_of_release', y='all_sales',  figsize=(12,5), kind='bar', grid=True, title='График продаж по годам');\n",
    "plt.show()"
   ]
  },
  {
   "cell_type": "markdown",
   "metadata": {},
   "source": [
    "Смотрим, как менялись продажи по платформам"
   ]
  },
  {
   "cell_type": "code",
   "execution_count": null,
   "metadata": {},
   "outputs": [],
   "source": [
    "data_top = data.pivot_table(index = 'platform', values = 'all_sales',  aggfunc=['sum']).reset_index(level='platform')\n",
    "data_top.columns = ['платформа', 'всего продаж']\n",
    "data_topp = data_top.sort_values(by='всего продаж', ascending=False)\n",
    "print(data_topp.head(10))"
   ]
  },
  {
   "cell_type": "markdown",
   "metadata": {},
   "source": [
    "<div class=\"alert alert-info\">\n",
    "<b> Стоим график топ 5 платформ исходя из обьема продаж. Пики их продаж в среднем 3-5 лет, но все стремятся к нулю после 2015, продаж уже почти не было. Скорее всего это связанно с тем, что было новая платформа которая забрала всех клиентов\n",
    "   </b> \n",
    "</div>"
   ]
  },
  {
   "cell_type": "code",
   "execution_count": null,
   "metadata": {},
   "outputs": [],
   "source": [
    "top_5_pl = ['PS2', 'X360', 'Wii', 'PS3', 'DS']\n",
    "data_query = data.query('year_of_release >= 2000')\n",
    "fig, ax = plt.subplots(1, 1, figsize = (18,5))\n",
    "\n",
    "for top_5_pl in top_5_pl:\n",
    "    data_pl = data_query[data_query['platform'] == top_5_pl]\n",
    "    data_group = data_pl.groupby('year_of_release')['all_sales'].sum().reset_index()\n",
    "    data_group.columns = ['year_of_release', 'sum']\n",
    "    x =  data_group['year_of_release']\n",
    "    y =  data_group['sum'] \n",
    "    ax.plot(x,y,   marker =\".\", label = top_5_pl)\n",
    "plt.legend()\n",
    "plt.show()"
   ]
  },
  {
   "cell_type": "code",
   "execution_count": null,
   "metadata": {},
   "outputs": [],
   "source": [
    "data_eu_sales = ['Action', 'Sports', 'Shooter', 'Racing', 'Platform']\n",
    "data_query = data.query('year_of_release >= 2012')\n",
    "fig, ax = plt.subplots(1, 1, figsize = (18,5))\n",
    "\n",
    "for data_eu_sales in data_eu_sales:\n",
    "    data_pl = data_query[data_query['genre'] == data_eu_sales]\n",
    "    data_group = data_pl.groupby('year_of_release')['eu_sales'].sum().reset_index()\n",
    "    data_group.columns = ['year_of_release', 'sum']\n",
    "    x =  data_group['year_of_release']\n",
    "    y =  data_group['sum'] \n",
    "    ax.plot(x,y,   marker =\"*\", label = data_eu_sales)\n",
    "plt.legend()\n",
    "plt.show()"
   ]
  },
  {
   "cell_type": "markdown",
   "metadata": {},
   "source": [
    "<div class=\"alert alert-info\">\n",
    "возьмем топ 5 платформ после 2012 года по продажам. Потенцеально прибильные PS4, это хорошо видно на грфике так же х360, рс3, 3DS, XOne. у всех у них падают продажи и если выбирать среди них самую прибыльную это рс4, но тоже в перспиктиву пары лет, видими все так есть другая платфаорма куда они все уходят."
   ]
  },
  {
   "cell_type": "code",
   "execution_count": null,
   "metadata": {},
   "outputs": [],
   "source": [
    "data_top = data_query.pivot_table(index = 'platform', values = 'all_sales',  aggfunc=['sum']).reset_index(level='platform')\n",
    "data_top.columns = ['платформа', 'всего продаж']\n",
    "data_topp = data_top.sort_values(by='всего продаж', ascending=False)\n",
    "print(data_topp.head(5))"
   ]
  },
  {
   "cell_type": "markdown",
   "metadata": {},
   "source": [
    "<div class=\"alert alert-info\">\n",
    "постоим ящик с усами. убедимся в наших топ 5"
   ]
  },
  {
   "cell_type": "code",
   "execution_count": null,
   "metadata": {},
   "outputs": [],
   "source": [
    "data_query.pivot_table(index='year_of_release', columns='platform', values='all_sales', aggfunc='sum').boxplot()"
   ]
  },
  {
   "cell_type": "markdown",
   "metadata": {},
   "source": [
    "  <div class=\"alert alert-info\">\n",
    "<b> Выберем самую популярную платформу РS4 и и посмотрим как влияют продажи внутри одной популярной платформы отзывы пользователей и критиков. Можно заметить, что продажи и отзывы есть небольшя зависимоть корреляция 0.37 значит что 37 процентов продаж зависили тот отзывов. \n",
    "   \n",
    "   </b> \n",
    "</div>"
   ]
  },
  {
   "cell_type": "code",
   "execution_count": null,
   "metadata": {},
   "outputs": [],
   "source": [
    "data_corr = data_query.query('platform == \"PS4\"')\n",
    "data_corr = data_corr.query('user_score >= 1')\n",
    "\n",
    "station_stat_multi = data_corr.pivot_table(index='name', values=['critic_score', 'user_score', 'all_sales'], aggfunc='median')\n",
    "print(station_stat_multi.corr())\n",
    "pd.plotting.scatter_matrix(station_stat_multi, figsize=(9, 9))"
   ]
  },
  {
   "cell_type": "markdown",
   "metadata": {},
   "source": [
    "<div class=\"alert alert-info\">\n",
    "Постоим подобные графики и выявление корреляции по другим платформам и посмтим на результат. У платформы X360 схожая зависимость коррелиции и отзывов близка к 0.37. Можно сказать, что эта платформа тоже зависит от отзывов."
   ]
  },
  {
   "cell_type": "code",
   "execution_count": null,
   "metadata": {},
   "outputs": [],
   "source": [
    "data_cor = data_query.query('platform == \"X360\"')\n",
    "data_cor = data_cor.query('user_score >= 1')\n",
    "\n",
    "station_stat_multi = data_cor.pivot_table(index='name', values=['critic_score', 'user_score', 'all_sales'], aggfunc='median')\n",
    "print(station_stat_multi.corr())\n",
    "pd.plotting.scatter_matrix(station_stat_multi, figsize=(9, 9))"
   ]
  },
  {
   "cell_type": "markdown",
   "metadata": {},
   "source": [
    "<div class=\"alert alert-info\">\n",
    "У платформы PS3 схожая зависимость коррелиции и отзывов близка к 0.37. Можно сказать, что эта платформа тоже зависит от отзывов. Так же наблюдается интересная тенденция к продажам. У лидера зависимость больше. Сейчас мы смотрим топ3 и явно идет спад коррелиции, можно сказать, что отзывы напрямую зависят от продаж"
   ]
  },
  {
   "cell_type": "code",
   "execution_count": null,
   "metadata": {},
   "outputs": [],
   "source": [
    "data_cor = data_query.query('platform == \"PS3\"')\n",
    "data_cor = data_cor.query('user_score >= 1')\n",
    "\n",
    "station_stat_multi = data_cor.pivot_table(index='name', values=['critic_score', 'user_score', 'all_sales'], aggfunc='median')\n",
    "print(station_stat_multi.corr())\n",
    "pd.plotting.scatter_matrix(station_stat_multi, figsize=(9, 9))"
   ]
  },
  {
   "cell_type": "markdown",
   "metadata": {},
   "source": [
    "  <div class=\"alert alert-info\">\n",
    "<b> У платформы 3DS схожая зависимость коррелиции и отзывов близка к 0.37. И я бы сказал что эта платформа в будущем может стать номер один по продажам исходя из корреляции по отзывам. В сумме ее корреляция от отзывам 0.42(критиков и пользователей) что является самой большой среди тех которые исследовали. Если выбирать Сриди пратформ какая в будущем вышла бы в топ по продажам можно сказать, что эта платформа была бы лидером.\n",
    "   </b> \n",
    "</div>"
   ]
  },
  {
   "cell_type": "code",
   "execution_count": null,
   "metadata": {},
   "outputs": [],
   "source": [
    "data_cor = data_query.query('platform == \"3DS\"')\n",
    "data_cor = data_cor.query('user_score >= 1')\n",
    "\n",
    "station_stat_multi = data_cor.pivot_table(index='name', values=['critic_score', 'user_score', 'all_sales'], aggfunc='median')\n",
    "print(station_stat_multi.corr())\n",
    "pd.plotting.scatter_matrix(station_stat_multi, figsize=(9, 9))"
   ]
  },
  {
   "cell_type": "markdown",
   "metadata": {},
   "source": [
    "<div class=\"alert alert-info\">\n",
    "<b> Самые прибыльный жанр это  shooter. Полсе Платформ и спорт потом все остальные.\n",
    "   </b> \n",
    "</div>"
   ]
  },
  {
   "cell_type": "code",
   "execution_count": null,
   "metadata": {},
   "outputs": [],
   "source": [
    "data_genre = data_query.groupby('genre')['all_sales'].mean().sort_values(ascending=False)\n",
    "data_genre.plot(x='genre', y='all_sales',  figsize=(12,5), kind='bar', grid=True);\n",
    "plt.show()"
   ]
  },
  {
   "cell_type": "markdown",
   "metadata": {},
   "source": [
    "<div class=\"alert alert-info\">\n",
    "Составим портрет пользователя каждого региона Самые популярные платформы (топ-5)\n",
    "\n",
    "Лидирующая платформа у каждого региона своя. у Северной Америки лидер X360 у Японии 3DS(хотя в Сев. Америке она на 5м месте) в Евпропе же лидер PS4, в Америке он на 2м месте, а в Японии и вовсе отсутсвует."
   ]
  },
  {
   "cell_type": "code",
   "execution_count": 9,
   "metadata": {},
   "outputs": [
    {
     "ename": "NameError",
     "evalue": "name 'data_query' is not defined",
     "output_type": "error",
     "traceback": [
      "\u001b[1;31m---------------------------------------------------------------------------\u001b[0m",
      "\u001b[1;31mNameError\u001b[0m                                 Traceback (most recent call last)",
      "\u001b[1;32m<ipython-input-9-49a5616854a8>\u001b[0m in \u001b[0;36m<module>\u001b[1;34m\u001b[0m\n\u001b[1;32m----> 1\u001b[1;33m \u001b[0mdata_na_sales\u001b[0m \u001b[1;33m=\u001b[0m \u001b[0mdata_query\u001b[0m\u001b[1;33m.\u001b[0m\u001b[0mpivot_table\u001b[0m\u001b[1;33m(\u001b[0m\u001b[0mindex\u001b[0m \u001b[1;33m=\u001b[0m \u001b[1;34m'platform'\u001b[0m\u001b[1;33m,\u001b[0m \u001b[0mvalues\u001b[0m \u001b[1;33m=\u001b[0m \u001b[1;34m'na_sales'\u001b[0m\u001b[1;33m,\u001b[0m  \u001b[0maggfunc\u001b[0m\u001b[1;33m=\u001b[0m\u001b[1;33m[\u001b[0m\u001b[1;34m'sum'\u001b[0m\u001b[1;33m]\u001b[0m\u001b[1;33m)\u001b[0m\u001b[1;33m.\u001b[0m\u001b[0mreset_index\u001b[0m\u001b[1;33m(\u001b[0m\u001b[0mlevel\u001b[0m\u001b[1;33m=\u001b[0m\u001b[1;34m'platform'\u001b[0m\u001b[1;33m)\u001b[0m\u001b[1;33m\u001b[0m\u001b[1;33m\u001b[0m\u001b[0m\n\u001b[0m\u001b[0;32m      2\u001b[0m \u001b[0mdata_na_sales\u001b[0m\u001b[1;33m.\u001b[0m\u001b[0mcolumns\u001b[0m \u001b[1;33m=\u001b[0m \u001b[1;33m[\u001b[0m\u001b[1;34m'платформа'\u001b[0m\u001b[1;33m,\u001b[0m \u001b[1;34m'всего продаж'\u001b[0m\u001b[1;33m]\u001b[0m\u001b[1;33m\u001b[0m\u001b[1;33m\u001b[0m\u001b[0m\n\u001b[0;32m      3\u001b[0m \u001b[0mdata_topp\u001b[0m \u001b[1;33m=\u001b[0m \u001b[0mdata_na_sales\u001b[0m\u001b[1;33m.\u001b[0m\u001b[0msort_values\u001b[0m\u001b[1;33m(\u001b[0m\u001b[0mby\u001b[0m\u001b[1;33m=\u001b[0m\u001b[1;34m'всего продаж'\u001b[0m\u001b[1;33m,\u001b[0m \u001b[0mascending\u001b[0m\u001b[1;33m=\u001b[0m\u001b[1;32mFalse\u001b[0m\u001b[1;33m)\u001b[0m\u001b[1;33m\u001b[0m\u001b[1;33m\u001b[0m\u001b[0m\n\u001b[0;32m      4\u001b[0m \u001b[0mprint\u001b[0m\u001b[1;33m(\u001b[0m\u001b[0mdata_topp\u001b[0m\u001b[1;33m.\u001b[0m\u001b[0mhead\u001b[0m\u001b[1;33m(\u001b[0m\u001b[1;36m5\u001b[0m\u001b[1;33m)\u001b[0m\u001b[1;33m)\u001b[0m\u001b[1;33m\u001b[0m\u001b[1;33m\u001b[0m\u001b[0m\n\u001b[0;32m      5\u001b[0m \u001b[1;33m\u001b[0m\u001b[0m\n",
      "\u001b[1;31mNameError\u001b[0m: name 'data_query' is not defined"
     ]
    }
   ],
   "source": [
    "data_na_sales = data_query.pivot_table(index = 'platform', values = 'na_sales',  aggfunc=['sum']).reset_index(level='platform')\n",
    "data_na_sales.columns = ['платформа', 'всего продаж']\n",
    "data_topp = data_na_sales.sort_values(by='всего продаж', ascending=False)\n",
    "print(data_topp.head(5))\n",
    "\n",
    "data_jp_sales = data_query.pivot_table(index = 'platform', values = 'jp_sales',  aggfunc=['sum']).reset_index(level='platform')\n",
    "data_jp_sales.columns = ['платформа', 'всего продаж']\n",
    "data_topp = data_jp_sales.sort_values(by='всего продаж', ascending=False)\n",
    "print(data_topp.head(5))\n",
    "\n",
    "data_eu_sales = data_query.pivot_table(index = 'platform', values = 'eu_sales',  aggfunc=['sum']).reset_index(level='platform')\n",
    "data_eu_sales.columns = ['платформа', 'всего продаж']\n",
    "data_topp = data_eu_sales.sort_values(by='всего продаж', ascending=False)\n",
    "print(data_topp.head(5))"
   ]
  },
  {
   "cell_type": "markdown",
   "metadata": {},
   "source": [
    "  <div class=\"alert alert-info\">\n",
    "В Америке самый популярный жарн шутер, потом Action, в Японии Role-Playing самый популярный. В Евпропе примерно как и в Америке Action потом шутер. Думаж жанры в которые играют в Японии так отличаются от других стан потому что выборка не досточна большая, может у них свои ценности и взгляды на жизнь не знаю)) хотя на втором месте у них так же Action"
   ]
  },
  {
   "cell_type": "code",
   "execution_count": null,
   "metadata": {},
   "outputs": [],
   "source": [
    "data_na_sales = data_query.pivot_table(index = 'genre', values = 'na_sales',  aggfunc=['sum']).reset_index(level='genre')\n",
    "data_na_sales.columns = ['жанр', 'всего продаж']\n",
    "data_topp = data_na_sales.sort_values(by='всего продаж', ascending=False)\n",
    "print(data_topp.head(5))\n",
    "\n",
    "data_jp_sales = data_query.pivot_table(index = 'genre', values = 'jp_sales',  aggfunc=['sum']).reset_index(level='genre')\n",
    "data_jp_sales.columns = ['жанр', 'всего продаж']\n",
    "data_topp = data_jp_sales.sort_values(by='всего продаж', ascending=False)\n",
    "print(data_topp.head(5))\n",
    "\n",
    "data_eu_sales = data_query.pivot_table(index = 'genre', values = 'eu_sales',  aggfunc=['sum']).reset_index(level='genre')\n",
    "data_eu_sales.columns = ['жанр', 'всего продаж']\n",
    "data_topp = data_eu_sales.sort_values(by='всего продаж', ascending=False)\n",
    "print(data_topp.head(5))"
   ]
  },
  {
   "cell_type": "markdown",
   "metadata": {},
   "source": [
    "  <div class=\"alert alert-info\">\n",
    "График популярный жанров в Японии."
   ]
  },
  {
   "cell_type": "code",
   "execution_count": null,
   "metadata": {},
   "outputs": [],
   "source": [
    "data_eu_sales = ['Action', 'Sports', 'Shooter', 'Racing', 'Platform']\n",
    "data_query = data.query('year_of_release >= 2012')\n",
    "fig, ax = plt.subplots(1, 1, figsize = (18,5))\n",
    "\n",
    "for data_eu_sales in data_eu_sales:\n",
    "    data_pl = data_query[data_query['genre'] == data_eu_sales]\n",
    "    data_group = data_pl.groupby('year_of_release')['eu_sales'].sum().reset_index()\n",
    "    data_group.columns = ['year_of_release', 'sum']\n",
    "    x =  data_group['year_of_release']\n",
    "    y =  data_group['sum'] \n",
    "    ax.plot(x,y,   marker =\"*\", label = data_eu_sales)\n",
    "plt.legend()\n",
    "plt.show()"
   ]
  },
  {
   "cell_type": "markdown",
   "metadata": {},
   "source": [
    "  <div class=\"alert alert-info\">\n",
    "Посмотрим как рейтинг влиял на продажи по регионам с помощью круговых диаграм. В Америке 44 процента игр это с рейтингом М(для взрослых)\n",
    "В Японии этим рейтингом особо не пользовались, а те кто пользовались предпочитали игры с рейтингом Е(для всех) тут сложно судить из-за того что данных мало\n",
    "\n",
    "В Европе 44 процента игр это с рейтингом М(для взрослых) совпадение с Америкой. У них много чего свопадает хех"
   ]
  },
  {
   "cell_type": "code",
   "execution_count": null,
   "metadata": {},
   "outputs": [],
   "source": [
    "data_query.groupby(['rating']).sum().plot(\n",
    "    kind='pie', y='na_sales', autopct='%1.0f%%') \n",
    "\n",
    "data_query.groupby(['rating']).sum().plot(\n",
    "    kind='pie', y='jp_sales', autopct='%1.0f%%', )\n",
    "\n",
    "data_query.groupby(['rating']).sum().plot(\n",
    "    kind='pie', y='eu_sales', autopct='%1.0f%%', )"
   ]
  },
  {
   "cell_type": "markdown",
   "metadata": {},
   "source": [
    "<div class=\"alert alert-info\">\n",
    "Нулевая гипотеза: Средние пользовательские рейтинги платформ Xbox One и PC одинаковые\n",
    "Альтернативаня гипотеза:Средние пользовательские рейтинги платформ Xbox One и PC разные\n",
    "\n",
    "Так как стоит задача сравнить средние значеия двух независивых совокупностей, для проведния эксперимета будем использовать независимый двухвыброчнй t-критерий, который и предназначен для этого. Так как задача стоит ответить на вопрос о равенстве средних, а не о том, больше ли, или меньше одно из них, альтернативную гипотезу изложим как двухсторонюю.\n",
    "\n",
    "\n",
    "Статистический вывод: на имеющихся данных, на уровне значимости 5% (уровне доверия 95%) есть основания отвергнуть нулевую гипотезу в пользу альтернативы.\n",
    "Средние пользовательские рейтинги жанров Action и Sports разные\n",
    "Проверяем гипотезу строгим математическим правилом — статистическим критерием Стьюдента.\n",
    "\n",
    "\n",
    "В результате получаем величину p-value. Она лежит в диапазоне от 0 до 1 и означает вероятность увидеть текущую или более экстремальную разницу между группами при условии верности нулевой гипотезы.\n",
    "\n",
    "\n",
    "Значение p-value сравнивается с уровнем значимости 0.05. Если оно больше, принимаем нулевую гипотезу о том, что различий нет, иначе считаем, что между группами есть статистически значимая разница.\n",
    "Исходя из обьема данных и выборки с которой мы работает возьмем уровень значимости(доверия) 5%.\n",
    "\n",
    "\n",
    "Вывод делается на выборке с 2012 года по 2016 год\n",
    "\n",
    "\n",
    "Вывод:Не получилось отвергнуть нулевую гипотезу"
   ]
  },
  {
   "cell_type": "code",
   "execution_count": null,
   "metadata": {},
   "outputs": [],
   "source": [
    "games_clean = data_query.dropna(subset=['user_score'])\n",
    "xbox_one = games_clean.query('platform == \"XOne\"')['user_score']\n",
    "pc = games_clean.query('platform == \"pc\"')['user_score']\n",
    "\n",
    "results = st.ttest_ind(xbox_one, pc, equal_var= False)\n",
    " \n",
    "alpha = 0.05\n",
    "\n",
    "if results.pvalue < alpha:\n",
    "    print(\"Отвергаем нулевую гипотезу\")\n",
    "else:\n",
    "    print(\"Не получилось отвергнуть нулевую гипотезу\")"
   ]
  },
  {
   "cell_type": "markdown",
   "metadata": {},
   "source": [
    "<div class=\"alert alert-info\">\n",
    "Так как стоит задача сравнить средние значеия двух независивых совокупностей, для проведния эксперимета будем использовать независимый двухвыброчнй t-критерий, который и предназначен для этого. Так как задача стоит ответить на вопрос о равенстве средних, а не о том, больше ли, или меньше одно из них, альтернативную гипотезу изложим как двухсторонюю."
   ]
  },
  {
   "cell_type": "markdown",
   "metadata": {},
   "source": [
    "<div class=\"alert alert-info\">\n",
    "Нулевая гипотеза: Средние пользовательские рейтинги жанров Action и Sports одинаковые\n",
    "Альтернативаня гипотеза:Средние пользовательские рейтинги жанров Action и Sports разные\n",
    "\n",
    "Так как стоит задача сравнить средние значеия двух независивых совокупностей, для проведния эксперимета будем использовать независимый двухвыброчнй t-критерий, который и предназначен для этого. Так как задача стоит ответить на вопрос о равенстве средних, а не о том, больше ли, или меньше одно из них, альтернативную гипотезу изложим как двухсторонюю.\n",
    "\n",
    "\n",
    "Статистический вывод: на имеющихся данных, на уровне значимости 5% (уровне доверия 95%) есть основания отвергнуть нулевую гипотезу в пользу альтернативы.\n",
    "Средние пользовательские рейтинги жанров Action и Sports разные\n",
    "\n",
    "\n",
    "Проверяем гипотезу строгим математическим правилом — статистическим критерием Стьюдента.\n",
    "\n",
    "\n",
    "В результате получаем величину p-value. Она лежит в диапазоне от 0 до 1 и означает вероятность увидеть текущую или более экстремальную разницу между группами при условии верности нулевой гипотезы.\n",
    "\n",
    "\n",
    "Значение p-value сравнивается с уровнем значимости 0.05. Если оно больше, принимаем нулевую гипотезу о том, что различий нет, иначе считаем, что между группами есть статистически значимая разница.\n",
    "\n",
    "\n",
    "Исходя из обьема данных и выборки с которой мы работает возьмем уровень значимости(доверия) 5%.\n",
    "\n",
    "\n",
    "Вывод делается на выборке с 2012 года по 2016 год\n",
    "\n",
    "\n",
    "Вывод:Не получилось отвергнуть нулевую гипотезу"
   ]
  },
  {
   "cell_type": "code",
   "execution_count": null,
   "metadata": {},
   "outputs": [],
   "source": [
    "games_clean = data_query.dropna(subset=['user_score'])\n",
    "xbox_one = games_clean.query('genre == \"Action\"')['user_score']\n",
    "pc = games_clean.query('genre == \"Sports\"')['user_score']\n",
    "\n",
    "results = st.ttest_ind(xbox_one, pc, equal_var= False)\n",
    " \n",
    "alpha = 0.05\n",
    "\n",
    "if results.pvalue < alpha:\n",
    "    print(\"Отвергаем нулевую гипотезу\")\n",
    "else:\n",
    "    print(\"Не получилось отвергнуть нулевую гипотезу\")"
   ]
  },
  {
   "cell_type": "markdown",
   "metadata": {},
   "source": [
    "<div class=\"alert alert-info\">\n",
    "Вывод:\n",
    "\n",
    "В ходе работы были замечены следующие особенности:\n",
    "\n",
    "1. Лидерами являются 2007 и 2008 год\n",
    "2. 'PS2', 'X360', 'Wii', 'PS3', 'DS' являлись самыми популярными платформами\n",
    "3. Самая популярную платформу РS4\n",
    "4. У продаж и отзывывов есть небольшя зависимоть корреляция 0.37 значит что 37 процентов продаж зависили тот отзывов.\n",
    "5. Самый прибыльный жанр это shooter\n",
    "6. У Северной Америки платформа лидер X360\n",
    "7. у Японии платформа лидер 3D\n",
    "8. в Евпропе платформа лидер PS4\n",
    "9. В Америке самый популярный жарн шутер, потом Action\n",
    "10. В Японии Role-Playing самый популярный\n",
    "11. В Евпропе примерно как и в Америке Action потом шутер. Думаж жанры в которые играют в Японии так отличаются от других стан потому что выборка не досточна большая, может у них свои ценности и взгляды на жизнь не знаю)) хотя на втором месте у них так же Action\n",
    "12. В Америке 44 процента игр это с рейтингом М(для взрослых)\n",
    "13. В Японии этим рейтингом особо не пользовались, а те кто пользовались предпочитали игры с рейтингом Е(для всех) тут сложно судить из-за того что данных мало\n",
    "14. В Европе 44 процента игр это с рейтингом М(для взрослых) совпадение с Америкой. У них много чего свопадает хех\n",
    "15. Между Европой и Америкой инресная зависимость между выбором жанром игры и рейтингом, почти одинаковые"
   ]
  },
  {
   "cell_type": "code",
   "execution_count": null,
   "metadata": {},
   "outputs": [],
   "source": []
  }
 ],
 "metadata": {
  "kernelspec": {
   "display_name": "Python 3",
   "language": "python",
   "name": "python3"
  },
  "language_info": {
   "codemirror_mode": {
    "name": "ipython",
    "version": 3
   },
   "file_extension": ".py",
   "mimetype": "text/x-python",
   "name": "python",
   "nbconvert_exporter": "python",
   "pygments_lexer": "ipython3",
   "version": "3.7.4"
  }
 },
 "nbformat": 4,
 "nbformat_minor": 2
}
